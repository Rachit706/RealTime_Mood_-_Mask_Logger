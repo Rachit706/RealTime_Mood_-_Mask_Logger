{
 "cells": [
  {
   "cell_type": "code",
   "execution_count": null,
   "id": "16573558-6b70-4b9e-af52-b17e279468ce",
   "metadata": {},
   "outputs": [
    {
     "name": "stdout",
     "output_type": "stream",
     "text": [
      "Starting real-time detection... Press 'q' to quit.\n"
     ]
    }
   ],
   "source": [
    "import cv2\n",
    "from fer import FER\n",
    "from datetime import datetime\n",
    "import csv\n",
    "import os\n",
    "import time\n",
    "\n",
    "# CSV log file setup\n",
    "log_file = \"mask_mood_log.csv\"\n",
    "if not os.path.exists(log_file):\n",
    "    with open(log_file, 'w', newline='') as f:\n",
    "        writer = csv.writer(f)\n",
    "        writer.writerow([\"DateTime\", \"Emotion\", \"MaskStatus\"])\n",
    "\n",
    "# Initialize webcam and emotion detector\n",
    "cam = cv2.VideoCapture(0)\n",
    "detector = FER(mtcnn=True)\n",
    "\n",
    "print(\"Starting real-time detection... Press 'q' to quit.\")\n",
    "\n",
    "while True:\n",
    "    ret, frame = cam.read()\n",
    "    if not ret:\n",
    "        print(\"Webcam error.\")\n",
    "        break\n",
    "\n",
    "    # Resize for better speed (optional)\n",
    "    resized_frame = cv2.resize(frame, (640, 480))\n",
    "\n",
    "    # Detect emotions\n",
    "    emotions = detector.detect_emotions(resized_frame)\n",
    "    if emotions:\n",
    "        dominant_emotion = max(emotions[0][\"emotions\"], key=emotions[0][\"emotions\"].get)\n",
    "        mask_status = \"No Mask\"\n",
    "    else:\n",
    "        dominant_emotion = \"neutral\"\n",
    "        mask_status = \"Maybe Mask\"\n",
    "\n",
    "    # Log the result\n",
    "    now = datetime.now().strftime(\"%Y-%m-%d %H:%M:%S\")\n",
    "    log_data = [now, dominant_emotion, mask_status]\n",
    "\n",
    "    with open(log_file, 'a', newline='') as f:\n",
    "        writer = csv.writer(f)\n",
    "        writer.writerow(log_data)\n",
    "\n",
    "    # Display frame with label\n",
    "    label = f\"{dominant_emotion} | {mask_status}\"\n",
    "    cv2.putText(resized_frame, label, (10, 30), cv2.FONT_HERSHEY_SIMPLEX, 1, (0,255,0), 2)\n",
    "    cv2.imshow(\"Real-Time Mood+Mask Logger\", resized_frame)\n",
    "\n",
    "    # Exit condition\n",
    "    if cv2.waitKey(1) & 0xFF == ord('q'):\n",
    "        print(\"Stopping...\")\n",
    "        break\n",
    "\n",
    "    # Optional: delay between logs\n",
    "    time.sleep(2)  # logs every 2 seconds\n",
    "\n",
    "cam.release()\n",
    "cv2.destroyAllWindows()\n"
   ]
  },
  {
   "cell_type": "code",
   "execution_count": null,
   "id": "37c2196c-385e-44b8-80f9-0a4682940f5a",
   "metadata": {},
   "outputs": [],
   "source": []
  },
  {
   "cell_type": "code",
   "execution_count": null,
   "id": "a022a8ef-e054-4f04-800e-3a2434a9d36c",
   "metadata": {},
   "outputs": [],
   "source": []
  },
  {
   "cell_type": "code",
   "execution_count": null,
   "id": "aec38f5b-72ec-43fe-817b-d7f0dc7e9103",
   "metadata": {},
   "outputs": [],
   "source": []
  },
  {
   "cell_type": "code",
   "execution_count": null,
   "id": "21f55c31-4eb8-46ba-95ac-80d4547aa0f6",
   "metadata": {},
   "outputs": [],
   "source": []
  }
 ],
 "metadata": {
  "kernelspec": {
   "display_name": "Python 3 (ipykernel)",
   "language": "python",
   "name": "python3"
  },
  "language_info": {
   "codemirror_mode": {
    "name": "ipython",
    "version": 3
   },
   "file_extension": ".py",
   "mimetype": "text/x-python",
   "name": "python",
   "nbconvert_exporter": "python",
   "pygments_lexer": "ipython3",
   "version": "3.10.11"
  }
 },
 "nbformat": 4,
 "nbformat_minor": 5
}
